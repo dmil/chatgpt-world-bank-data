{
 "cells": [
  {
   "cell_type": "markdown",
   "metadata": {},
   "source": [
    "# Exploring World Bank Data with ChatGPT\n",
    "\n",
    "In this notebook, we'll explore some data from the World Bank with the help of ChatGPT. We'll do some basic exploratory data analysis, primarily in Python, but maybe also a bit in R."
   ]
  },
  {
   "cell_type": "markdown",
   "metadata": {},
   "source": [
    "# Setup\n",
    "\n",
    "Just run the cells in this section. Don't worry about the contents. They simply set up the notebook to use R and Python in the same notebook and import some commonly used packages in both languages."
   ]
  },
  {
   "cell_type": "code",
   "execution_count": null,
   "metadata": {},
   "outputs": [],
   "source": [
    "%load_ext rpy2.ipython\n",
    "%load_ext autoreload\n",
    "%autoreload 2\n",
    "\n",
    "%matplotlib inline  \n",
    "from matplotlib import rcParams\n",
    "rcParams['figure.figsize'] = (16, 100)\n",
    "\n",
    "import warnings\n",
    "from rpy2.rinterface import RRuntimeWarning\n",
    "warnings.filterwarnings(\"ignore\") # Ignore all warnings\n",
    "# warnings.filterwarnings(\"ignore\", category=RRuntimeWarning) # Show some warnings\n",
    "\n",
    "import pandas as pd\n",
    "import numpy as np\n",
    "import matplotlib.pyplot as plt\n",
    "from IPython.display import display, HTML"
   ]
  },
  {
   "cell_type": "code",
   "execution_count": null,
   "metadata": {},
   "outputs": [],
   "source": [
    "%%javascript\n",
    "// Disable auto-scrolling\n",
    "IPython.OutputArea.prototype._should_scroll = function(lines) {\n",
    "    return false;\n",
    "}"
   ]
  },
  {
   "cell_type": "code",
   "execution_count": null,
   "metadata": {},
   "outputs": [],
   "source": [
    "%%R\n",
    "\n",
    "# My commonly used R imports\n",
    "\n",
    "require('tidyverse')"
   ]
  },
  {
   "cell_type": "markdown",
   "metadata": {},
   "source": [
    "## Example Cells"
   ]
  },
  {
   "cell_type": "markdown",
   "metadata": {},
   "source": [
    "Below is a Python cell, there is nothing at the top of the cell because it is python by default."
   ]
  },
  {
   "cell_type": "code",
   "execution_count": null,
   "metadata": {},
   "outputs": [],
   "source": [
    "# EXAMPLE PYTHON CELL\n",
    "\n",
    "# create a dataframe of random numbers with two columns, A and B\n",
    "df = pd.DataFrame(\n",
    "    np.random.randint(0,100,size=(100, 2)), columns=list('AB'))\n",
    "\n",
    "# display first 5 rows\n",
    "df.head(5)"
   ]
  },
  {
   "cell_type": "markdown",
   "metadata": {},
   "source": [
    "This is a Python notebook, but below is an R cell. \n",
    "\n",
    "The `%%R` at the top of the cell indicates that the code in this cell will be R code. `%%R -i df` indicates that this is an R cell and imports the dataframe (stored in the `df` variable) from Python. This is one way to pass data back and forth from R to Python. Another is to write a CSV file in Python and read it in R (or vice versa). Below we use R's awesome ggplot library to plot the data we created in Python in the cell above."
   ]
  },
  {
   "cell_type": "code",
   "execution_count": null,
   "metadata": {},
   "outputs": [],
   "source": [
    "%%R -i df\n",
    "\n",
    "# Plotting using R\n",
    "plt <- ggplot(df) +\n",
    "    geom_point(aes(A,B))\n",
    "\n",
    "plt"
   ]
  },
  {
   "cell_type": "markdown",
   "metadata": {},
   "source": [
    "## World Bank Data\n",
    "\n",
    "Ok, now that you're familiar with the setup, let's start with world bank data! "
   ]
  },
  {
   "cell_type": "markdown",
   "metadata": {},
   "source": [
    "### Loading the Data\n",
    "\n",
    "\n",
    "### Step 1: Give ChatGPT a \"starter prompt\"\n",
    "\n",
    "The default system prompt is \"you are a helpful assistant\", but ChatGPT will need some more context. Here is my starting point.\n",
    "\n",
    "> I am going to tell you about some python code to analyze data. I have three different files I want to tell you about. Please listen to what I tell you about all three files before you start making suggestions. I will then ask you questions so that you can help me write python code to do data analysis on these three files. Thanks! "
   ]
  },
  {
   "cell_type": "markdown",
   "metadata": {},
   "source": [
    "# Step 2: Let's tell ChatGPT about the data. \n",
    "\n",
    "You will have to be VERY explicit about \n",
    "\n",
    "1. what the file contains\n",
    "2. what the columns are and the values in the columns (if there is a data dictionary, you can copy/paste from there) "
   ]
  },
  {
   "cell_type": "markdown",
   "metadata": {},
   "source": [
    "**Loading file 1 of 3: World Bank Projects & Operations [link](https://datacatalog.worldbank.org/search/dataset/0037800/World-Bank-Projects---Operations)**\n"
   ]
  },
  {
   "cell_type": "code",
   "execution_count": null,
   "metadata": {},
   "outputs": [],
   "source": [
    "reviews_df = pd.read_excel(\"data/all.xls\", skiprows=[0,1])\n",
    "reviews_df"
   ]
  },
  {
   "cell_type": "markdown",
   "metadata": {},
   "source": [
    "This file contains ratings data from IEG’s Implementation Completion Report Reviews (ICRRs), which are validations (desk reviews) of World Bank (WB) Implementation Completion and Results Reports (ICRs) of lending projects. For some projects, a full evaluation called a Project Performance Assessment Report (PPAR) is done.  In those cases, the ratings from the PPARs supersedes the ICRR ratings. Most rating indicators have a 6-point scale, though some have a 4-point scale. The default view shows ratings on IEG Outcome Ratings.\n",
    "\n",
    "\n",
    "\n"
   ]
  },
  {
   "cell_type": "code",
   "execution_count": null,
   "metadata": {},
   "outputs": [],
   "source": [
    "reviews_df.columns"
   ]
  },
  {
   "cell_type": "markdown",
   "metadata": {},
   "source": [
    "**Loading file 2 of 3: IEG Data: World Bank Project Ratings [link](https://ieg.worldbankgroup.org/ieg-data-world-bank-project-ratings-and-lessons)**\n"
   ]
  },
  {
   "cell_type": "code",
   "execution_count": 18,
   "metadata": {},
   "outputs": [],
   "source": [
    "ratings_df = pd.read_excel(\"data/IEG_ICRR_PPAR_Ratings_2023-10-03.xlsx\")\n",
    "ratings_df"
   ]
  },
  {
   "cell_type": "markdown",
   "metadata": {},
   "source": [
    "This file contains ratings data from IEG’s Implementation Completion Report Reviews (ICRRs), which are validations (desk reviews) of World Bank (WB) Implementation Completion and Results Reports (ICRs) of lending projects. For some projects, a full evaluation called a Project Performance Assessment Report (PPAR) is done.  In those cases, the ratings from the PPARs supersedes the ICRR ratings.\n",
    "\n"
   ]
  },
  {
   "cell_type": "code",
   "execution_count": 19,
   "metadata": {},
   "outputs": [
    {
     "data": {
      "text/plain": [
       "Index(['Project ID', 'Project Name', 'Project Approval Fiscal Year',\n",
       "       'Closing FY', 'Evaluation Date', 'Evaluation Type',\n",
       "       'IEG Outcome Ratings', 'IEG Bank Performance Ratings',\n",
       "       'IEG Quality at Entry Ratings', 'IEG Quality of Supervision Ratings',\n",
       "       'IEG Monitoring and Evaluation Quality Ratings', 'Global Practice',\n",
       "       'Practice Group', 'Region', 'Country', 'Country FCS Status',\n",
       "       'Country Lending Group', 'Agreement Type', 'Lending Instrument',\n",
       "       'Project Volume'],\n",
       "      dtype='object')"
      ]
     },
     "execution_count": 19,
     "metadata": {},
     "output_type": "execute_result"
    }
   ],
   "source": [
    "ratings_df.columns"
   ]
  },
  {
   "cell_type": "markdown",
   "metadata": {},
   "source": [
    "**Loading file 3 of 3: Contract Awards in Investment Project Financing [link](https://www.google.com/url?q=https://finances.worldbank.org/Procurement/Contract-Awards-in-Investment-Project-Financing/kdui-wcs3&sa=D&source=editors&ust=1699895909050601&usg=AOvVaw1zwDti0oCf-ygNMoBqVhwC)**\n"
   ]
  },
  {
   "cell_type": "markdown",
   "metadata": {},
   "source": [
    "The data in this file includes all contract awards financed by The World Bank under Investment Project Financing (IPF) operations. The data source is STEP (Systematic Tracking of Exchanges in Procurement), which is required to be used by Borrowers in all IPF operations subject to the World Bank’s Procurement Regulations. Data is entered by Borrowers. \"Supplier Country\" represents the place of supplier registration, which may or may not be the supplier's actual country of origin. Information does not include awards to subcontractors, nor does it account for cofinancing.\n",
    "\n",
    "Please note that for contracts awarded to joint-ventures of multiple companies, the total contract value was split equally amongst the members of the joint-venture."
   ]
  },
  {
   "cell_type": "code",
   "execution_count": 21,
   "metadata": {},
   "outputs": [],
   "source": [
    "contracts_df = pd.read_csv('data/Contract_Awards_in_Investment_Project_Financing_20231113.csv')\n",
    "contracts_df"
   ]
  },
  {
   "cell_type": "code",
   "execution_count": 22,
   "metadata": {},
   "outputs": [
    {
     "data": {
      "text/plain": [
       "Index(['As of Date', 'Fiscal Year', 'Region', 'Borrower Country',\n",
       "       'Borrower Country Code', 'Project ID', 'Project Name',\n",
       "       'Project Global Practice', 'Procurement Category', 'Procurement Method',\n",
       "       'WB Contract Number', 'Contract Description',\n",
       "       'Borrower Contract Reference Number', 'Contract Signing Date',\n",
       "       'Supplier ID', 'Supplier', 'Supplier Country', 'Supplier Country Code',\n",
       "       'Supplier Contract Amount (USD)', 'Review type'],\n",
       "      dtype='object')"
      ]
     },
     "execution_count": 22,
     "metadata": {},
     "output_type": "execute_result"
    }
   ],
   "source": [
    "contracts_df.columns"
   ]
  },
  {
   "cell_type": "markdown",
   "metadata": {},
   "source": [
    "### Simple Task 1"
   ]
  },
  {
   "cell_type": "markdown",
   "metadata": {},
   "source": [
    "Question: TKTK write your question here."
   ]
  },
  {
   "cell_type": "code",
   "execution_count": null,
   "metadata": {},
   "outputs": [],
   "source": [
    "# code goes here"
   ]
  },
  {
   "cell_type": "markdown",
   "metadata": {},
   "source": [
    "### Simple Task 2"
   ]
  },
  {
   "cell_type": "markdown",
   "metadata": {},
   "source": [
    "Question: TKTK write your question here."
   ]
  },
  {
   "cell_type": "code",
   "execution_count": null,
   "metadata": {},
   "outputs": [],
   "source": [
    "# code goes here"
   ]
  },
  {
   "cell_type": "markdown",
   "metadata": {},
   "source": [
    "### Simple Task 3"
   ]
  },
  {
   "cell_type": "markdown",
   "metadata": {},
   "source": [
    "Question: TKTK write your question here."
   ]
  },
  {
   "cell_type": "code",
   "execution_count": null,
   "metadata": {},
   "outputs": [],
   "source": [
    "# code goes here"
   ]
  },
  {
   "cell_type": "markdown",
   "metadata": {},
   "source": [
    "### Complex Task 1"
   ]
  },
  {
   "cell_type": "markdown",
   "metadata": {},
   "source": [
    "Question: TKTK write your question here."
   ]
  },
  {
   "cell_type": "code",
   "execution_count": null,
   "metadata": {},
   "outputs": [],
   "source": [
    "# code goes here"
   ]
  }
 ],
 "metadata": {
  "kernelspec": {
   "display_name": "Python 3 (ipykernel)",
   "language": "python",
   "name": "python3"
  },
  "language_info": {
   "codemirror_mode": {
    "name": "ipython",
    "version": 3
   },
   "file_extension": ".py",
   "mimetype": "text/x-python",
   "name": "python",
   "nbconvert_exporter": "python",
   "pygments_lexer": "ipython3",
   "version": "3.11.2"
  }
 },
 "nbformat": 4,
 "nbformat_minor": 4
}
