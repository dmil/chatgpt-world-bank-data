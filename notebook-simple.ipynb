{
 "cells": [
  {
   "cell_type": "markdown",
   "metadata": {},
   "source": [
    "# Exploring World Bank Data with ChatGPT\n",
    "\n",
    "In this notebook, we'll explore some data from the World Bank with the help of ChatGPT. We'll do some basic exploratory data analysis, primarily in Python, but maybe also a bit in R."
   ]
  },
  {
   "cell_type": "markdown",
   "metadata": {},
   "source": [
    "# Setup\n",
    "\n",
    "Just run the cells in this section. Don't worry about the contents. They simply set up the notebook to use R and Python in the same notebook and import some commonly used packages in both languages."
   ]
  },
  {
   "cell_type": "code",
   "execution_count": 1,
   "metadata": {},
   "outputs": [],
   "source": [
    "%load_ext rpy2.ipython\n",
    "%load_ext autoreload\n",
    "%autoreload 2\n",
    "\n",
    "%matplotlib inline  \n",
    "from matplotlib import rcParams\n",
    "rcParams['figure.figsize'] = (16, 100)\n",
    "\n",
    "import warnings\n",
    "from rpy2.rinterface import RRuntimeWarning\n",
    "warnings.filterwarnings(\"ignore\") # Ignore all warnings\n",
    "# warnings.filterwarnings(\"ignore\", category=RRuntimeWarning) # Show some warnings\n",
    "\n",
    "import pandas as pd\n",
    "import numpy as np\n",
    "import matplotlib.pyplot as plt\n",
    "from IPython.display import display, HTML"
   ]
  },
  {
   "cell_type": "code",
   "execution_count": 2,
   "metadata": {},
   "outputs": [
    {
     "data": {
      "application/javascript": "// Disable auto-scrolling\nIPython.OutputArea.prototype._should_scroll = function(lines) {\n    return false;\n}\n",
      "text/plain": [
       "<IPython.core.display.Javascript object>"
      ]
     },
     "metadata": {},
     "output_type": "display_data"
    }
   ],
   "source": [
    "%%javascript\n",
    "// Disable auto-scrolling\n",
    "IPython.OutputArea.prototype._should_scroll = function(lines) {\n",
    "    return false;\n",
    "}"
   ]
  },
  {
   "cell_type": "code",
   "execution_count": 3,
   "metadata": {},
   "outputs": [
    {
     "name": "stderr",
     "output_type": "stream",
     "text": [
      "R[write to console]: Loading required package: tidyverse\n",
      "\n"
     ]
    },
    {
     "name": "stdout",
     "output_type": "stream",
     "text": [
      "── Attaching core tidyverse packages ──────────────────────── tidyverse 2.0.0 ──\n",
      "✔ dplyr     1.1.2     ✔ readr     2.1.4\n",
      "✔ forcats   1.0.0     ✔ stringr   1.5.0\n",
      "✔ ggplot2   3.4.2     ✔ tibble    3.2.1\n",
      "✔ lubridate 1.9.2     ✔ tidyr     1.3.0\n",
      "✔ purrr     1.0.1     \n",
      "── Conflicts ────────────────────────────────────────── tidyverse_conflicts() ──\n",
      "✖ dplyr::filter() masks stats::filter()\n",
      "✖ dplyr::lag()    masks stats::lag()\n",
      "ℹ Use the conflicted package (<http://conflicted.r-lib.org/>) to force all conflicts to become errors\n"
     ]
    }
   ],
   "source": [
    "%%R\n",
    "\n",
    "# My commonly used R imports\n",
    "\n",
    "require('tidyverse')"
   ]
  },
  {
   "cell_type": "markdown",
   "metadata": {},
   "source": [
    "# Example Cells"
   ]
  },
  {
   "cell_type": "markdown",
   "metadata": {},
   "source": [
    "Below is a Python cell, there is nothing at the top of the cell because it is python by default."
   ]
  },
  {
   "cell_type": "code",
   "execution_count": 4,
   "metadata": {},
   "outputs": [
    {
     "data": {
      "text/html": [
       "<div>\n",
       "<style scoped>\n",
       "    .dataframe tbody tr th:only-of-type {\n",
       "        vertical-align: middle;\n",
       "    }\n",
       "\n",
       "    .dataframe tbody tr th {\n",
       "        vertical-align: top;\n",
       "    }\n",
       "\n",
       "    .dataframe thead th {\n",
       "        text-align: right;\n",
       "    }\n",
       "</style>\n",
       "<table border=\"1\" class=\"dataframe\">\n",
       "  <thead>\n",
       "    <tr style=\"text-align: right;\">\n",
       "      <th></th>\n",
       "      <th>A</th>\n",
       "      <th>B</th>\n",
       "    </tr>\n",
       "  </thead>\n",
       "  <tbody>\n",
       "    <tr>\n",
       "      <th>0</th>\n",
       "      <td>61</td>\n",
       "      <td>27</td>\n",
       "    </tr>\n",
       "    <tr>\n",
       "      <th>1</th>\n",
       "      <td>61</td>\n",
       "      <td>63</td>\n",
       "    </tr>\n",
       "    <tr>\n",
       "      <th>2</th>\n",
       "      <td>15</td>\n",
       "      <td>25</td>\n",
       "    </tr>\n",
       "    <tr>\n",
       "      <th>3</th>\n",
       "      <td>28</td>\n",
       "      <td>16</td>\n",
       "    </tr>\n",
       "    <tr>\n",
       "      <th>4</th>\n",
       "      <td>57</td>\n",
       "      <td>64</td>\n",
       "    </tr>\n",
       "  </tbody>\n",
       "</table>\n",
       "</div>"
      ],
      "text/plain": [
       "    A   B\n",
       "0  61  27\n",
       "1  61  63\n",
       "2  15  25\n",
       "3  28  16\n",
       "4  57  64"
      ]
     },
     "execution_count": 4,
     "metadata": {},
     "output_type": "execute_result"
    }
   ],
   "source": [
    "# EXAMPLE PYTHON CELL\n",
    "\n",
    "# create a dataframe of random numbers with two columns, A and B\n",
    "df = pd.DataFrame(\n",
    "    np.random.randint(0,100,size=(100, 2)), columns=list('AB'))\n",
    "\n",
    "# display first 5 rows\n",
    "df.head(5)"
   ]
  },
  {
   "cell_type": "markdown",
   "metadata": {},
   "source": [
    "This is a Python notebook, but below is an R cell. \n",
    "\n",
    "The `%%R` at the top of the cell indicates that the code in this cell will be R code. `%%R -i df` indicates that this is an R cell and imports the dataframe (stored in the `df` variable) from Python. This is one way to pass data back and forth from R to Python. Another is to write a CSV file in Python and read it in R (or vice versa). Below we use R's awesome ggplot library to plot the data we created in Python in the cell above."
   ]
  },
  {
   "cell_type": "code",
   "execution_count": 5,
   "metadata": {},
   "outputs": [
    {
     "data": {
      "image/png": "[encoded data removed]"
     },
     "metadata": {},
     "output_type": "display_data"
    }
   ],
   "source": [
    "%%R -i df\n",
    "\n",
    "# Plotting using R\n",
    "plt <- ggplot(df) +\n",
    "    geom_point(aes(A,B))\n",
    "\n",
    "plt"
   ]
  },
  {
   "cell_type": "markdown",
   "metadata": {},
   "source": [
    "# World Bank Data\n",
    "\n",
    "Ok, now that you're familiar with the setup, let's start with world bank data! "
   ]
  },
  {
   "cell_type": "markdown",
   "metadata": {},
   "source": [
    "### Loading the Data\n",
    "\n",
    "\n",
    "#### Step 1: Give ChatGPT a \"starter prompt\"\n",
    "\n",
    "The default system prompt is \"you are a helpful assistant\", but ChatGPT will need some more context. \n",
    "\n",
    "Here is my starting point:\n",
    "\n",
    "I have a file containing some data about Contract Awards of investment projects. The file is at the following path `data/Contract_Awards_in_Investment_Project_Financing_20231113.csv`\n",
    "\n",
    "I will tell you a bit more about the file and then I will ask you some questions. Please help me write python code to answer those questions.\n",
    "\n"
   ]
  },
  {
   "cell_type": "markdown",
   "metadata": {},
   "source": [
    "#### Step 2: Let's tell ChatGPT about the data. \n",
    "\n",
    "You will have to be VERY explicit about \n",
    "\n",
    "1. what the file contains\n",
    "2. what the columns are and the values in the columns (if there is a data dictionary, you can copy/paste from there) "
   ]
  },
  {
   "cell_type": "markdown",
   "metadata": {},
   "source": [
    "**Loading a file: Contract Awards in Investment Project Financing [link](https://www.google.com/url?q=https://finances.worldbank.org/Procurement/Contract-Awards-in-Investment-Project-Financing/kdui-wcs3&sa=D&source=editors&ust=1699895909050601&usg=AOvVaw1zwDti0oCf-ygNMoBqVhwC)**\n"
   ]
  },
  {
   "cell_type": "markdown",
   "metadata": {},
   "source": [
    "The data in this file includes all contract awards financed by The World Bank under Investment Project Financing (IPF) operations. The data source is STEP (Systematic Tracking of Exchanges in Procurement), which is required to be used by Borrowers in all IPF operations subject to the World Bank’s Procurement Regulations. Data is entered by Borrowers. \"Supplier Country\" represents the place of supplier registration, which may or may not be the supplier's actual country of origin. Information does not include awards to subcontractors, nor does it account for cofinancing.\n",
    "\n",
    "Please note that for contracts awarded to joint-ventures of multiple companies, the total contract value was split equally amongst the members of the joint-venture."
   ]
  },
  {
   "cell_type": "markdown",
   "metadata": {},
   "source": [
    "| Column Name                   | Description                                                                      | Type       |\n",
    "|-------------------------------|----------------------------------------------------------------------------------|------------|\n",
    "| As of Date                    | Represents the date when this snapshot was taken.                               | Date & Time|\n",
    "| Fiscal Year                   | The fiscal year begins on July 1st of the previous year and runs through June 30th of the designated year. | Number     |\n",
    "| Region                        | Country lending is grouped into regions based on the current World Bank administrative (rather than geographic) region where project implementation takes place. The Other Region is used for loans to the IFC. | Plain Text |\n",
    "| Borrower Country              | Country to which loan or credit has been issued. Loans to the IFC are included under the country “World”. | Plain Text |\n",
    "| Borrower Country Code         | Country Code according to the World Bank country list. Might be different from the ISO country code. | Plain Text |\n",
    "| Project ID                    | A Bank project is referenced by a project ID (Pxxxxxxx). More than one loan, credit, or grant may be associated with one Project ID. | Plain Text |\n",
    "| Project Name                  | Short descriptive project name.                                                  | Plain Text |\n",
    "| Project Global Practice       | Indicates major sector for specific contract.                                     | Plain Text |\n",
    "| Procurement Category          | Describes procurement category.                                                   | Plain Text |\n",
    "| Procurement Method            | The method used for selecting a contractor, supplier or consultant. The method used depends upon the Procurement Category. | Plain Text |\n",
    "| WB Contract Number            | Internal World Bank Contract number.                                              | Plain Text |\n",
    "| Contract Description          | Contract description as it appears in the signed agreement.                        | Plain Text |\n",
    "| Borrower Contract Reference Number | Contract reference number used by Borrower.                                     | Plain Text |\n",
    "| Contract Signing Date         | Date when the contract was signed.                                               | Date & Time|\n",
    "| Supplier ID                   |   --                                                                                 | Plain Text |\n",
    "| Supplier                      | The name of the contractor, supplier or consultant who submitted the winning bid or proposal. The name of the manufacturer, Joint Venture partners, sub-contractor, and/or sub-consultants may not appear. | Plain Text |\n",
    "| Supplier Country              | The nationality of awarded firms is based on place of registration, which may or may not be the same as the country of origin. For the country where the work is being performed, or the goods are being delivered, use Borrower Country. | Plain Text |\n",
    "| Supplier Country Code         | Supplier Country Code according to the World Bank country list. Might be different from the ISO country code. The nationality of awarded firms is based on place of registration, which may or may not be the same as the country of origin. | Plain Text |\n",
    "| Supplier Contract Amount (USD)| All contract values reflect committed (not disbursed) amounts, and are in US dollars, based on the US Treasury's rate of exchange at the time of the Bank's no objection to the contract award. | Number     |\n",
    "| Review type                   | The Bank reviews whether the Borrower’s procurement process complies with the legal agreement and the Procurement Regulations for Borrowers either prior to or post procurement. | Plain Text |\n"
   ]
  },
  {
   "cell_type": "markdown",
   "metadata": {},
   "source": [
    "I have the following starter code"
   ]
  },
  {
   "cell_type": "code",
   "execution_count": 6,
   "metadata": {},
   "outputs": [
    {
     "data": {
      "text/html": [
       "<div>\n",
       "<style scoped>\n",
       "    .dataframe tbody tr th:only-of-type {\n",
       "        vertical-align: middle;\n",
       "    }\n",
       "\n",
       "    .dataframe tbody tr th {\n",
       "        vertical-align: top;\n",
       "    }\n",
       "\n",
       "    .dataframe thead th {\n",
       "        text-align: right;\n",
       "    }\n",
       "</style>\n",
       "<table border=\"1\" class=\"dataframe\">\n",
       "  <thead>\n",
       "    <tr style=\"text-align: right;\">\n",
       "      <th></th>\n",
       "      <th>As of Date</th>\n",
       "      <th>Fiscal Year</th>\n",
       "      <th>Region</th>\n",
       "      <th>Borrower Country</th>\n",
       "      <th>Borrower Country Code</th>\n",
       "      <th>Project ID</th>\n",
       "      <th>Project Name</th>\n",
       "      <th>Project Global Practice</th>\n",
       "      <th>Procurement Category</th>\n",
       "      <th>Procurement Method</th>\n",
       "      <th>WB Contract Number</th>\n",
       "      <th>Contract Description</th>\n",
       "      <th>Borrower Contract Reference Number</th>\n",
       "      <th>Contract Signing Date</th>\n",
       "      <th>Supplier ID</th>\n",
       "      <th>Supplier</th>\n",
       "      <th>Supplier Country</th>\n",
       "      <th>Supplier Country Code</th>\n",
       "      <th>Supplier Contract Amount (USD)</th>\n",
       "      <th>Review type</th>\n",
       "    </tr>\n",
       "  </thead>\n",
       "  <tbody>\n",
       "    <tr>\n",
       "      <th>0</th>\n",
       "      <td>Nov 13, 2023</td>\n",
       "      <td>2023</td>\n",
       "      <td>LATIN AMERICA AND CARIBBEAN</td>\n",
       "      <td>Peru</td>\n",
       "      <td>PE</td>\n",
       "      <td>P162833</td>\n",
       "      <td>Improving the Performance of Non-Criminal Just...</td>\n",
       "      <td>Public Administration</td>\n",
       "      <td>Civil Works</td>\n",
       "      <td>Request for Quotations</td>\n",
       "      <td>1751630</td>\n",
       "      <td>SERVICIO DE MEJORAMIENTO DE LA SEDE MEGA ALEGR...</td>\n",
       "      <td>26-2022-PMSAJ-EJENOPENAL</td>\n",
       "      <td>Nov 16, 2022</td>\n",
       "      <td>711960.0</td>\n",
       "      <td>ALTA CONTRATA E.I.R.L. - ALTACON E.I.R.L.</td>\n",
       "      <td>Peru</td>\n",
       "      <td>PE</td>\n",
       "      <td>51209.77</td>\n",
       "      <td>Post</td>\n",
       "    </tr>\n",
       "    <tr>\n",
       "      <th>1</th>\n",
       "      <td>Nov 13, 2023</td>\n",
       "      <td>2023</td>\n",
       "      <td>LATIN AMERICA AND CARIBBEAN</td>\n",
       "      <td>Peru</td>\n",
       "      <td>PE</td>\n",
       "      <td>P162833</td>\n",
       "      <td>Improving the Performance of Non-Criminal Just...</td>\n",
       "      <td>Public Administration</td>\n",
       "      <td>Civil Works</td>\n",
       "      <td>Request for Quotations</td>\n",
       "      <td>1751629</td>\n",
       "      <td>SERVICIO DE MEJORAMIENTO DE LA SEDE ALEGRA SAN...</td>\n",
       "      <td>28-2022-PMSAJ-EJENOPENAL</td>\n",
       "      <td>Nov 23, 2022</td>\n",
       "      <td>712242.0</td>\n",
       "      <td>RCK CONTRATISTAS GENERALES S.A.C.</td>\n",
       "      <td>Peru</td>\n",
       "      <td>PE</td>\n",
       "      <td>51963.62</td>\n",
       "      <td>Post</td>\n",
       "    </tr>\n",
       "    <tr>\n",
       "      <th>2</th>\n",
       "      <td>Nov 13, 2023</td>\n",
       "      <td>2023</td>\n",
       "      <td>LATIN AMERICA AND CARIBBEAN</td>\n",
       "      <td>Peru</td>\n",
       "      <td>PE</td>\n",
       "      <td>P162833</td>\n",
       "      <td>Improving the Performance of Non-Criminal Just...</td>\n",
       "      <td>Public Administration</td>\n",
       "      <td>Civil Works</td>\n",
       "      <td>Request for Quotations</td>\n",
       "      <td>1751628</td>\n",
       "      <td>SERVICIO DE MEJORAMIENTO DE LA SEDE ALEGRA SAN...</td>\n",
       "      <td>33-2022-PMSAJ-EJENOPENAL</td>\n",
       "      <td>Nov 30, 2022</td>\n",
       "      <td>712234.0</td>\n",
       "      <td>INVERSIONES Y PROYECTOS MERARQ S.A.C</td>\n",
       "      <td>Peru</td>\n",
       "      <td>PE</td>\n",
       "      <td>41278.63</td>\n",
       "      <td>Post</td>\n",
       "    </tr>\n",
       "    <tr>\n",
       "      <th>3</th>\n",
       "      <td>Nov 13, 2023</td>\n",
       "      <td>2023</td>\n",
       "      <td>LATIN AMERICA AND CARIBBEAN</td>\n",
       "      <td>Peru</td>\n",
       "      <td>PE</td>\n",
       "      <td>P162833</td>\n",
       "      <td>Improving the Performance of Non-Criminal Just...</td>\n",
       "      <td>Public Administration</td>\n",
       "      <td>Civil Works</td>\n",
       "      <td>Request for Quotations</td>\n",
       "      <td>1751627</td>\n",
       "      <td>CONTRATO DE SERVICIO DE MEJORAMIENTO DE LA SED...</td>\n",
       "      <td>27-2022-PMSAJ-EJENOPENAL</td>\n",
       "      <td>Nov 21, 2022</td>\n",
       "      <td>712240.0</td>\n",
       "      <td>LARZON PERU S.A.C.</td>\n",
       "      <td>Peru</td>\n",
       "      <td>PE</td>\n",
       "      <td>17747.00</td>\n",
       "      <td>Post</td>\n",
       "    </tr>\n",
       "    <tr>\n",
       "      <th>4</th>\n",
       "      <td>Nov 13, 2023</td>\n",
       "      <td>2023</td>\n",
       "      <td>EAST ASIA AND PACIFIC</td>\n",
       "      <td>Philippines</td>\n",
       "      <td>PH</td>\n",
       "      <td>P132317</td>\n",
       "      <td>Philippine Rural Development Project</td>\n",
       "      <td>Transportation;Agriculture, Fishing and Forest...</td>\n",
       "      <td>Civil Works</td>\n",
       "      <td>Request for Bids</td>\n",
       "      <td>1751626</td>\n",
       "      <td>Construction and Concreting of Brgy. Hantag- B...</td>\n",
       "      <td>PRDP-IB-R008-SOL-009-MAA-001-201</td>\n",
       "      <td>Dec 27, 2022</td>\n",
       "      <td>194170.0</td>\n",
       "      <td>JQD CONSTRUCTION AND GENERAL SERVICES</td>\n",
       "      <td>Philippines</td>\n",
       "      <td>PH</td>\n",
       "      <td>3278595.42</td>\n",
       "      <td>Post</td>\n",
       "    </tr>\n",
       "    <tr>\n",
       "      <th>...</th>\n",
       "      <td>...</td>\n",
       "      <td>...</td>\n",
       "      <td>...</td>\n",
       "      <td>...</td>\n",
       "      <td>...</td>\n",
       "      <td>...</td>\n",
       "      <td>...</td>\n",
       "      <td>...</td>\n",
       "      <td>...</td>\n",
       "      <td>...</td>\n",
       "      <td>...</td>\n",
       "      <td>...</td>\n",
       "      <td>...</td>\n",
       "      <td>...</td>\n",
       "      <td>...</td>\n",
       "      <td>...</td>\n",
       "      <td>...</td>\n",
       "      <td>...</td>\n",
       "      <td>...</td>\n",
       "      <td>...</td>\n",
       "    </tr>\n",
       "    <tr>\n",
       "      <th>202800</th>\n",
       "      <td>Nov 13, 2023</td>\n",
       "      <td>2017</td>\n",
       "      <td>MIDDLE EAST AND NORTH AFRICA</td>\n",
       "      <td>Lebanon</td>\n",
       "      <td>LB</td>\n",
       "      <td>P149242</td>\n",
       "      <td>Emergency National Poverty Targeting Program P...</td>\n",
       "      <td>Social Protection</td>\n",
       "      <td>Consultant Services</td>\n",
       "      <td>Direct Selection</td>\n",
       "      <td>1524268</td>\n",
       "      <td>Procurement Specialist - FOT</td>\n",
       "      <td>C-IC035</td>\n",
       "      <td>Sep 07, 2016</td>\n",
       "      <td>133992.0</td>\n",
       "      <td>NATHALIE GEBRAYEL</td>\n",
       "      <td>Lebanon</td>\n",
       "      <td>LB</td>\n",
       "      <td>195200.00</td>\n",
       "      <td>Prior</td>\n",
       "    </tr>\n",
       "    <tr>\n",
       "      <th>202801</th>\n",
       "      <td>Nov 13, 2023</td>\n",
       "      <td>2017</td>\n",
       "      <td>MIDDLE EAST AND NORTH AFRICA</td>\n",
       "      <td>Lebanon</td>\n",
       "      <td>LB</td>\n",
       "      <td>P149242</td>\n",
       "      <td>Emergency National Poverty Targeting Program P...</td>\n",
       "      <td>Social Protection</td>\n",
       "      <td>Consultant Services</td>\n",
       "      <td>Direct Selection</td>\n",
       "      <td>1524264</td>\n",
       "      <td>Procurement Assistant - FOT</td>\n",
       "      <td>C-IC036</td>\n",
       "      <td>Sep 07, 2016</td>\n",
       "      <td>178397.0</td>\n",
       "      <td>JESSY EL KHOURY</td>\n",
       "      <td>Lebanon</td>\n",
       "      <td>LB</td>\n",
       "      <td>76800.00</td>\n",
       "      <td>Prior</td>\n",
       "    </tr>\n",
       "    <tr>\n",
       "      <th>202802</th>\n",
       "      <td>Nov 13, 2023</td>\n",
       "      <td>2017</td>\n",
       "      <td>MIDDLE EAST AND NORTH AFRICA</td>\n",
       "      <td>Lebanon</td>\n",
       "      <td>LB</td>\n",
       "      <td>P133226</td>\n",
       "      <td>Lebanon Fiscal Management Reform 2</td>\n",
       "      <td>Public Administration</td>\n",
       "      <td>Consultant Services</td>\n",
       "      <td>Individual Consultant Selection</td>\n",
       "      <td>1517959</td>\n",
       "      <td>Title on Consulting services as International ...</td>\n",
       "      <td>4</td>\n",
       "      <td>Nov 02, 2016</td>\n",
       "      <td>999999.0</td>\n",
       "      <td>INDIVIDUAL CONSULTANT</td>\n",
       "      <td>World</td>\n",
       "      <td>1W</td>\n",
       "      <td>312000.00</td>\n",
       "      <td>Prior</td>\n",
       "    </tr>\n",
       "    <tr>\n",
       "      <th>202803</th>\n",
       "      <td>Nov 13, 2023</td>\n",
       "      <td>2017</td>\n",
       "      <td>MIDDLE EAST AND NORTH AFRICA</td>\n",
       "      <td>Lebanon</td>\n",
       "      <td>LB</td>\n",
       "      <td>P133226</td>\n",
       "      <td>Lebanon Fiscal Management Reform 2</td>\n",
       "      <td>Public Administration</td>\n",
       "      <td>Consultant Services</td>\n",
       "      <td>Individual Consultant Selection</td>\n",
       "      <td>1517913</td>\n",
       "      <td>Signed Contract relative to the PMU Positions ...</td>\n",
       "      <td>2</td>\n",
       "      <td>Nov 30, 2016</td>\n",
       "      <td>999999.0</td>\n",
       "      <td>INDIVIDUAL CONSULTANT</td>\n",
       "      <td>World</td>\n",
       "      <td>1W</td>\n",
       "      <td>151200.00</td>\n",
       "      <td>Prior</td>\n",
       "    </tr>\n",
       "    <tr>\n",
       "      <th>202804</th>\n",
       "      <td>Nov 13, 2023</td>\n",
       "      <td>2017</td>\n",
       "      <td>SOUTH ASIA</td>\n",
       "      <td>Afghanistan</td>\n",
       "      <td>AF</td>\n",
       "      <td>P120397</td>\n",
       "      <td>Afghanistan Agricultural Inputs Project (AAIP)</td>\n",
       "      <td>Agriculture, Fishing and Forestry;Industry, Tr...</td>\n",
       "      <td>Consultant Services</td>\n",
       "      <td>Individual Consultant Selection</td>\n",
       "      <td>1318576</td>\n",
       "      <td>Legal Specialst for Quarantine</td>\n",
       "      <td>MAIL/WB/IAIDS/IC/012</td>\n",
       "      <td>Nov 01, 2016</td>\n",
       "      <td>999999.0</td>\n",
       "      <td>INDIVIDUAL CONSULTANT</td>\n",
       "      <td>World</td>\n",
       "      <td>1W</td>\n",
       "      <td>27006.76</td>\n",
       "      <td>Prior</td>\n",
       "    </tr>\n",
       "  </tbody>\n",
       "</table>\n",
       "<p>202805 rows × 20 columns</p>\n",
       "</div>"
      ],
      "text/plain": [
       "          As of Date  Fiscal Year                        Region  \\\n",
       "0       Nov 13, 2023         2023   LATIN AMERICA AND CARIBBEAN   \n",
       "1       Nov 13, 2023         2023   LATIN AMERICA AND CARIBBEAN   \n",
       "2       Nov 13, 2023         2023   LATIN AMERICA AND CARIBBEAN   \n",
       "3       Nov 13, 2023         2023   LATIN AMERICA AND CARIBBEAN   \n",
       "4       Nov 13, 2023         2023         EAST ASIA AND PACIFIC   \n",
       "...              ...          ...                           ...   \n",
       "202800  Nov 13, 2023         2017  MIDDLE EAST AND NORTH AFRICA   \n",
       "202801  Nov 13, 2023         2017  MIDDLE EAST AND NORTH AFRICA   \n",
       "202802  Nov 13, 2023         2017  MIDDLE EAST AND NORTH AFRICA   \n",
       "202803  Nov 13, 2023         2017  MIDDLE EAST AND NORTH AFRICA   \n",
       "202804  Nov 13, 2023         2017                    SOUTH ASIA   \n",
       "\n",
       "       Borrower Country Borrower Country Code Project ID  \\\n",
       "0                  Peru                    PE    P162833   \n",
       "1                  Peru                    PE    P162833   \n",
       "2                  Peru                    PE    P162833   \n",
       "3                  Peru                    PE    P162833   \n",
       "4           Philippines                    PH    P132317   \n",
       "...                 ...                   ...        ...   \n",
       "202800          Lebanon                    LB    P149242   \n",
       "202801          Lebanon                    LB    P149242   \n",
       "202802          Lebanon                    LB    P133226   \n",
       "202803          Lebanon                    LB    P133226   \n",
       "202804      Afghanistan                    AF    P120397   \n",
       "\n",
       "                                             Project Name  \\\n",
       "0       Improving the Performance of Non-Criminal Just...   \n",
       "1       Improving the Performance of Non-Criminal Just...   \n",
       "2       Improving the Performance of Non-Criminal Just...   \n",
       "3       Improving the Performance of Non-Criminal Just...   \n",
       "4                    Philippine Rural Development Project   \n",
       "...                                                   ...   \n",
       "202800  Emergency National Poverty Targeting Program P...   \n",
       "202801  Emergency National Poverty Targeting Program P...   \n",
       "202802                 Lebanon Fiscal Management Reform 2   \n",
       "202803                 Lebanon Fiscal Management Reform 2   \n",
       "202804     Afghanistan Agricultural Inputs Project (AAIP)   \n",
       "\n",
       "                                  Project Global Practice  \\\n",
       "0                                   Public Administration   \n",
       "1                                   Public Administration   \n",
       "2                                   Public Administration   \n",
       "3                                   Public Administration   \n",
       "4       Transportation;Agriculture, Fishing and Forest...   \n",
       "...                                                   ...   \n",
       "202800                                  Social Protection   \n",
       "202801                                  Social Protection   \n",
       "202802                              Public Administration   \n",
       "202803                              Public Administration   \n",
       "202804  Agriculture, Fishing and Forestry;Industry, Tr...   \n",
       "\n",
       "       Procurement Category               Procurement Method  \\\n",
       "0               Civil Works           Request for Quotations   \n",
       "1               Civil Works           Request for Quotations   \n",
       "2               Civil Works           Request for Quotations   \n",
       "3               Civil Works           Request for Quotations   \n",
       "4               Civil Works                 Request for Bids   \n",
       "...                     ...                              ...   \n",
       "202800  Consultant Services                 Direct Selection   \n",
       "202801  Consultant Services                 Direct Selection   \n",
       "202802  Consultant Services  Individual Consultant Selection   \n",
       "202803  Consultant Services  Individual Consultant Selection   \n",
       "202804  Consultant Services  Individual Consultant Selection   \n",
       "\n",
       "        WB Contract Number                               Contract Description  \\\n",
       "0                  1751630  SERVICIO DE MEJORAMIENTO DE LA SEDE MEGA ALEGR...   \n",
       "1                  1751629  SERVICIO DE MEJORAMIENTO DE LA SEDE ALEGRA SAN...   \n",
       "2                  1751628  SERVICIO DE MEJORAMIENTO DE LA SEDE ALEGRA SAN...   \n",
       "3                  1751627  CONTRATO DE SERVICIO DE MEJORAMIENTO DE LA SED...   \n",
       "4                  1751626  Construction and Concreting of Brgy. Hantag- B...   \n",
       "...                    ...                                                ...   \n",
       "202800             1524268                       Procurement Specialist - FOT   \n",
       "202801             1524264                        Procurement Assistant - FOT   \n",
       "202802             1517959  Title on Consulting services as International ...   \n",
       "202803             1517913  Signed Contract relative to the PMU Positions ...   \n",
       "202804             1318576                     Legal Specialst for Quarantine   \n",
       "\n",
       "       Borrower Contract Reference Number Contract Signing Date  Supplier ID  \\\n",
       "0                26-2022-PMSAJ-EJENOPENAL          Nov 16, 2022     711960.0   \n",
       "1                28-2022-PMSAJ-EJENOPENAL          Nov 23, 2022     712242.0   \n",
       "2                33-2022-PMSAJ-EJENOPENAL          Nov 30, 2022     712234.0   \n",
       "3                27-2022-PMSAJ-EJENOPENAL          Nov 21, 2022     712240.0   \n",
       "4        PRDP-IB-R008-SOL-009-MAA-001-201          Dec 27, 2022     194170.0   \n",
       "...                                   ...                   ...          ...   \n",
       "202800                            C-IC035          Sep 07, 2016     133992.0   \n",
       "202801                            C-IC036          Sep 07, 2016     178397.0   \n",
       "202802                                  4          Nov 02, 2016     999999.0   \n",
       "202803                                  2          Nov 30, 2016     999999.0   \n",
       "202804               MAIL/WB/IAIDS/IC/012          Nov 01, 2016     999999.0   \n",
       "\n",
       "                                         Supplier Supplier Country  \\\n",
       "0       ALTA CONTRATA E.I.R.L. - ALTACON E.I.R.L.             Peru   \n",
       "1               RCK CONTRATISTAS GENERALES S.A.C.             Peru   \n",
       "2            INVERSIONES Y PROYECTOS MERARQ S.A.C             Peru   \n",
       "3                              LARZON PERU S.A.C.             Peru   \n",
       "4           JQD CONSTRUCTION AND GENERAL SERVICES      Philippines   \n",
       "...                                           ...              ...   \n",
       "202800                          NATHALIE GEBRAYEL          Lebanon   \n",
       "202801                            JESSY EL KHOURY          Lebanon   \n",
       "202802                      INDIVIDUAL CONSULTANT            World   \n",
       "202803                      INDIVIDUAL CONSULTANT            World   \n",
       "202804                      INDIVIDUAL CONSULTANT            World   \n",
       "\n",
       "       Supplier Country Code  Supplier Contract Amount (USD) Review type  \n",
       "0                         PE                        51209.77        Post  \n",
       "1                         PE                        51963.62        Post  \n",
       "2                         PE                        41278.63        Post  \n",
       "3                         PE                        17747.00        Post  \n",
       "4                         PH                      3278595.42        Post  \n",
       "...                      ...                             ...         ...  \n",
       "202800                    LB                       195200.00       Prior  \n",
       "202801                    LB                        76800.00       Prior  \n",
       "202802                    1W                       312000.00       Prior  \n",
       "202803                    1W                       151200.00       Prior  \n",
       "202804                    1W                        27006.76       Prior  \n",
       "\n",
       "[202805 rows x 20 columns]"
      ]
     },
     "execution_count": 6,
     "metadata": {},
     "output_type": "execute_result"
    }
   ],
   "source": [
    "contracts_df = pd.read_csv('data/Contract_Awards_in_Investment_Project_Financing_20231113.csv')\n",
    "contracts_df"
   ]
  },
  {
   "cell_type": "markdown",
   "metadata": {},
   "source": [
    "# Step 3: Guided Questions"
   ]
  },
  {
   "cell_type": "markdown",
   "metadata": {},
   "source": [
    "#### Question 1: Write a prompt to get the code to get you the top 5 suppliers in each fiscal year"
   ]
  },
  {
   "cell_type": "code",
   "execution_count": 7,
   "metadata": {},
   "outputs": [],
   "source": [
    "# code goes here"
   ]
  },
  {
   "cell_type": "markdown",
   "metadata": {},
   "source": [
    "#### Question 2: Write a prompt to get the the total amount of money spent each year in each region\n",
    "_hint: this is basically just a pivot table in excel_"
   ]
  },
  {
   "cell_type": "code",
   "execution_count": 8,
   "metadata": {},
   "outputs": [],
   "source": [
    "# code goes here"
   ]
  },
  {
   "cell_type": "markdown",
   "metadata": {},
   "source": [
    "#### Question 3 (BONUS): \n",
    "#### see if you can get it to output some code to make you a chart of the amount of money spent each year in each region\n",
    "_hint: same data as the previous question, but now in visual form_\n"
   ]
  },
  {
   "cell_type": "code",
   "execution_count": 9,
   "metadata": {},
   "outputs": [],
   "source": [
    "# code goes here"
   ]
  },
  {
   "cell_type": "markdown",
   "metadata": {},
   "source": [
    "# Step 4: Define your own questions"
   ]
  },
  {
   "cell_type": "markdown",
   "metadata": {},
   "source": [
    "Question: TKTK write your question here."
   ]
  },
  {
   "cell_type": "code",
   "execution_count": 10,
   "metadata": {},
   "outputs": [],
   "source": [
    "# code goes here"
   ]
  },
  {
   "cell_type": "markdown",
   "metadata": {},
   "source": [
    "Question: TKTK write your question here."
   ]
  },
  {
   "cell_type": "code",
   "execution_count": 11,
   "metadata": {},
   "outputs": [],
   "source": [
    "# code goes here"
   ]
  },
  {
   "cell_type": "markdown",
   "metadata": {},
   "source": [
    "Question: TKTK write your question here."
   ]
  },
  {
   "cell_type": "code",
   "execution_count": 12,
   "metadata": {},
   "outputs": [],
   "source": [
    "# code goes here"
   ]
  }
 ],
 "metadata": {
  "kernelspec": {
   "display_name": "Python 3 (ipykernel)",
   "language": "python",
   "name": "python3"
  },
  "language_info": {
   "codemirror_mode": {
    "name": "ipython",
    "version": 3
   },
   "file_extension": ".py",
   "mimetype": "text/x-python",
   "name": "python",
   "nbconvert_exporter": "python",
   "pygments_lexer": "ipython3",
   "version": "3.11.2"
  }
 },
 "nbformat": 4,
 "nbformat_minor": 4
}
